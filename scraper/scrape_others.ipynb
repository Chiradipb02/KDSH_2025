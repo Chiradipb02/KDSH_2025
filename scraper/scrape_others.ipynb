{
 "cells": [
  {
   "cell_type": "code",
   "execution_count": 1,
   "metadata": {},
   "outputs": [],
   "source": [
    "# import bs4\n",
    "import requests\n",
    "from bs4 import BeautifulSoup"
   ]
  },
  {
   "cell_type": "code",
   "execution_count": 3,
   "metadata": {},
   "outputs": [],
   "source": [
    "# https://dblp.org/db/conf/kdd/kdd2024.html\n",
    "url = \"https://dblp.org/db/conf/kdd/kdd2024.html\"\n",
    "response = requests.get(url)\n",
    "soup = BeautifulSoup(response.text, \"html.parser\")"
   ]
  },
  {
   "cell_type": "code",
   "execution_count": 17,
   "metadata": {},
   "outputs": [],
   "source": [
    "# parse content of all div class head within li class \"entry inproceedings\"\n",
    "import random\n",
    "\n",
    "papers = []\n",
    "for entry in soup.find_all(\"li\", class_=\"entry inproceedings\"):\n",
    "    head = entry.find(\"div\", class_=\"head\")\n",
    "    # now parse the hrefs within the head\n",
    "    for a in head.find_all(\"a\"):\n",
    "        papers.append(a[\"href\"])"
   ]
  },
  {
   "cell_type": "code",
   "execution_count": 18,
   "metadata": {},
   "outputs": [
    {
     "data": {
      "text/plain": [
       "642"
      ]
     },
     "execution_count": 18,
     "metadata": {},
     "output_type": "execute_result"
    }
   ],
   "source": [
    "len(papers)"
   ]
  },
  {
   "cell_type": "code",
   "execution_count": 19,
   "metadata": {},
   "outputs": [],
   "source": [
    "# save list as kdd_2024_papers.txt\n",
    "with open(\"kdd_2024_papers.txt\", \"w\") as f:\n",
    "    for paper in papers:\n",
    "        f.write(paper + \"\\n\")"
   ]
  },
  {
   "cell_type": "code",
   "execution_count": null,
   "metadata": {},
   "outputs": [],
   "source": []
  }
 ],
 "metadata": {
  "kernelspec": {
   "display_name": "NLP",
   "language": "python",
   "name": "python3"
  },
  "language_info": {
   "codemirror_mode": {
    "name": "ipython",
    "version": 3
   },
   "file_extension": ".py",
   "mimetype": "text/x-python",
   "name": "python",
   "nbconvert_exporter": "python",
   "pygments_lexer": "ipython3",
   "version": "3.8.18"
  }
 },
 "nbformat": 4,
 "nbformat_minor": 2
}
