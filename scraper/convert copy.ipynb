{
 "cells": [
  {
   "cell_type": "code",
   "execution_count": 1,
   "metadata": {},
   "outputs": [],
   "source": [
    "import PyPDF2\n",
    "import os\n",
    "from tqdm import tqdm"
   ]
  },
  {
   "cell_type": "code",
   "execution_count": 2,
   "metadata": {},
   "outputs": [],
   "source": [
    "def extract_text_from_pdf(file):\n",
    "    text = \"\"\n",
    "    with open(file, 'rb') as file:\n",
    "        # Create a PDF Reader object\n",
    "        reader = PyPDF2.PdfReader(file)\n",
    "        # Get the number of pages\n",
    "        # print(len(reader.pages))\n",
    "        \n",
    "        # Loop through all the pages\n",
    "        for page in reader.pages:\n",
    "            text += page.extract_text()\n",
    "    return text"
   ]
  },
  {
   "cell_type": "code",
   "execution_count": 4,
   "metadata": {},
   "outputs": [
    {
     "name": "stderr",
     "output_type": "stream",
     "text": [
      " 18%|█▊        | 117/658 [01:57<12:57,  1.44s/it]incorrect startxref pointer(1)\n",
      " 45%|████▌     | 299/658 [05:16<11:37,  1.94s/it]unknown widths : \n",
      "[0, IndirectObject(627, 0, 1486183830912)]\n",
      "unknown widths : \n",
      "[0, IndirectObject(624, 0, 1486183830912)]\n",
      "unknown widths : \n",
      "[0, IndirectObject(630, 0, 1486183830912)]\n",
      "unknown widths : \n",
      "[0, IndirectObject(615, 0, 1486183830912)]\n",
      "unknown widths : \n",
      "[0, IndirectObject(612, 0, 1486183830912)]\n",
      "unknown widths : \n",
      "[0, IndirectObject(621, 0, 1486183830912)]\n",
      "unknown widths : \n",
      "[0, IndirectObject(618, 0, 1486183830912)]\n",
      "unknown widths : \n",
      "[0, IndirectObject(606, 0, 1486183830912)]\n",
      "unknown widths : \n",
      "[0, IndirectObject(602, 0, 1486183830912)]\n",
      "unknown widths : \n",
      "[0, IndirectObject(599, 0, 1486183830912)]\n",
      "unknown widths : \n",
      "[0, IndirectObject(575, 0, 1486183830912)]\n",
      "unknown widths : \n",
      "[0, IndirectObject(584, 0, 1486183830912)]\n",
      "unknown widths : \n",
      "[0, IndirectObject(581, 0, 1486183830912)]\n",
      "unknown widths : \n",
      "[0, IndirectObject(609, 0, 1486183830912)]\n",
      "unknown widths : \n",
      "[0, IndirectObject(578, 0, 1486183830912)]\n",
      "unknown widths : \n",
      "[0, IndirectObject(596, 0, 1486183830912)]\n",
      "unknown widths : \n",
      "[0, IndirectObject(593, 0, 1486183830912)]\n",
      "unknown widths : \n",
      "[0, IndirectObject(590, 0, 1486183830912)]\n",
      "unknown widths : \n",
      "[0, IndirectObject(587, 0, 1486183830912)]\n",
      " 51%|█████     | 334/658 [06:12<05:54,  1.10s/it]FloatObject (b'0.000-29396326') invalid; use 0.0 instead\n",
      "FloatObject (b'0.00-43989503') invalid; use 0.0 instead\n",
      "FloatObject (b'0.00-18110237') invalid; use 0.0 instead\n",
      " 70%|███████   | 463/658 [09:46<03:42,  1.14s/it]unknown widths : \n",
      "[0, IndirectObject(401, 0, 1486171536928)]\n",
      "unknown widths : \n",
      "[0, IndirectObject(378, 0, 1486171536928)]\n",
      "unknown widths : \n",
      "[0, IndirectObject(394, 0, 1486171536928)]\n",
      "unknown widths : \n",
      "[0, IndirectObject(394, 0, 1486171536928)]\n",
      "unknown widths : \n",
      "[0, IndirectObject(369, 0, 1486171536928)]\n",
      "unknown widths : \n",
      "[0, IndirectObject(378, 0, 1486171536928)]\n",
      "unknown widths : \n",
      "[0, IndirectObject(375, 0, 1486171536928)]\n",
      "unknown widths : \n",
      "[0, IndirectObject(372, 0, 1486171536928)]\n",
      "unknown widths : \n",
      "[0, IndirectObject(385, 0, 1486171536928)]\n",
      "unknown widths : \n",
      "[0, IndirectObject(382, 0, 1486171536928)]\n",
      "unknown widths : \n",
      "[0, IndirectObject(445, 0, 1486171536928)]\n",
      "unknown widths : \n",
      "[0, IndirectObject(451, 0, 1486171536928)]\n",
      "unknown widths : \n",
      "[0, IndirectObject(448, 0, 1486171536928)]\n",
      "unknown widths : \n",
      "[0, IndirectObject(423, 0, 1486171536928)]\n",
      "100%|██████████| 658/658 [19:38<00:00,  1.79s/it]\n"
     ]
    }
   ],
   "source": [
    "import threading\n",
    "dir_ = \"kdd_2024_papers\"\n",
    "out_dir = \"kdd_ocr\"\n",
    "\n",
    "present = os.listdir(out_dir)\n",
    "\n",
    "def process_id(file):\n",
    "    try:\n",
    "        file_name = f\"{out_dir}/{file}.txt\".replace(\".pdf.txt\", \".txt\")\n",
    "        if file.endswith(\".pdf\") and file_name.split(\"/\")[-1] not in present:\n",
    "            text = extract_text_from_pdf(f\"{dir_}/{file}\")\n",
    "            with open(file_name, \"w\") as f:\n",
    "                f.write(str(text))\n",
    "    except Exception as e:\n",
    "        pass\n",
    "\n",
    "for file in tqdm(os.listdir(dir_)):\n",
    "    p = threading.Thread(target=process_id, args=(file,))\n",
    "    p.start()\n",
    "    p.join(timeout=5)\n",
    "    if p.is_alive():\n",
    "        continue"
   ]
  },
  {
   "cell_type": "code",
   "execution_count": 5,
   "metadata": {},
   "outputs": [
    {
     "data": {
      "text/plain": [
       "655"
      ]
     },
     "execution_count": 5,
     "metadata": {},
     "output_type": "execute_result"
    }
   ],
   "source": [
    "len(os.listdir(out_dir))"
   ]
  },
  {
   "cell_type": "code",
   "execution_count": null,
   "metadata": {},
   "outputs": [],
   "source": []
  }
 ],
 "metadata": {
  "kernelspec": {
   "display_name": "NLP",
   "language": "python",
   "name": "python3"
  },
  "language_info": {
   "codemirror_mode": {
    "name": "ipython",
    "version": 3
   },
   "file_extension": ".py",
   "mimetype": "text/x-python",
   "name": "python",
   "nbconvert_exporter": "python",
   "pygments_lexer": "ipython3",
   "version": "3.8.18"
  }
 },
 "nbformat": 4,
 "nbformat_minor": 2
}
