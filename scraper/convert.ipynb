{
 "cells": [
  {
   "cell_type": "code",
   "execution_count": 1,
   "metadata": {},
   "outputs": [],
   "source": [
    "import PyPDF2\n",
    "import os\n",
    "from tqdm import tqdm"
   ]
  },
  {
   "cell_type": "code",
   "execution_count": 2,
   "metadata": {},
   "outputs": [],
   "source": [
    "def extract_text_from_pdf(file):\n",
    "    text = \"\"\n",
    "    with open(file, 'rb') as file:\n",
    "        # Create a PDF Reader object\n",
    "        reader = PyPDF2.PdfReader(file)\n",
    "        # Get the number of pages\n",
    "        # print(len(reader.pages))\n",
    "        \n",
    "        # Loop through all the pages\n",
    "        for page in reader.pages:\n",
    "            text += page.extract_text()\n",
    "    return text"
   ]
  },
  {
   "cell_type": "code",
   "execution_count": 5,
   "metadata": {},
   "outputs": [
    {
     "name": "stderr",
     "output_type": "stream",
     "text": [
      " 86%|████████▌ | 1117/1298 [04:06<01:44,  1.74it/s] unknown widths : \n",
      "[0, IndirectObject(827, 0, 1784487671072)]\n",
      " 86%|████████▌ | 1118/1298 [04:06<01:24,  2.12it/s]unknown widths : \n",
      "[0, IndirectObject(829, 0, 1784487671072)]\n",
      " 86%|████████▋ | 1121/1298 [04:06<00:41,  4.30it/s]unknown widths : \n",
      "[0, IndirectObject(831, 0, 1784487671072)]\n",
      "unknown widths : \n",
      "[0, IndirectObject(833, 0, 1784487671072)]\n",
      " 87%|████████▋ | 1123/1298 [04:06<00:30,  5.80it/s]unknown widths : \n",
      "[0, IndirectObject(835, 0, 1784487671072)]\n",
      " 87%|████████▋ | 1125/1298 [04:06<00:24,  7.20it/s]unknown widths : \n",
      "[0, IndirectObject(837, 0, 1784487671072)]\n",
      " 87%|████████▋ | 1127/1298 [04:07<00:19,  8.71it/s]unknown widths : \n",
      "[0, IndirectObject(839, 0, 1784487671072)]\n",
      "unknown widths : \n",
      "[0, IndirectObject(841, 0, 1784487671072)]\n",
      "unknown widths : \n",
      "[0, IndirectObject(843, 0, 1784487671072)]\n",
      "unknown widths : \n",
      "[0, IndirectObject(879, 0, 1784487671072)]\n",
      "unknown widths : \n",
      "[0, IndirectObject(881, 0, 1784487671072)]\n",
      " 88%|████████▊ | 1137/1298 [04:07<00:07, 22.40it/s]unknown widths : \n",
      "[0, IndirectObject(883, 0, 1784487671072)]\n",
      "unknown widths : \n",
      "[0, IndirectObject(885, 0, 1784487671072)]\n",
      "unknown widths : \n",
      "[0, IndirectObject(887, 0, 1784487671072)]\n",
      "unknown widths : \n",
      "[0, IndirectObject(889, 0, 1784487671072)]\n",
      "unknown widths : \n",
      "[0, IndirectObject(891, 0, 1784487671072)]\n",
      "unknown widths : \n",
      "[0, IndirectObject(893, 0, 1784487671072)]\n",
      "unknown widths : \n",
      "[0, IndirectObject(895, 0, 1784487671072)]\n",
      "unknown widths : \n",
      "[0, IndirectObject(897, 0, 1784487671072)]\n",
      " 92%|█████████▏| 1195/1298 [04:35<00:26,  3.85it/s]d:\\Anaconda\\envs\\NLP\\lib\\site-packages\\PyPDF2\\_cmap.py:142: PdfReadWarning: Advanced encoding /UniGB-UCS2-H not implemented yet\n",
      "  warnings.warn(\n",
      "100%|██████████| 1298/1298 [05:29<00:00,  3.94it/s]\n"
     ]
    }
   ],
   "source": [
    "import threading\n",
    "dir_ = \"tmlr_2024_papers\"\n",
    "out_dir = \"tmlr_ocr\"\n",
    "src = os.listdir(\"review_papers\")\n",
    "\n",
    "present = os.listdir(out_dir)\n",
    "\n",
    "def process_id(file):\n",
    "    try:\n",
    "        file_name = f\"{out_dir}/{file}.txt\".replace(\".pdf.txt\", \".txt\")\n",
    "        if file.endswith(\".pdf\") and file_name.split(\"/\")[-1] not in present:\n",
    "            if file_name.split(\"/\")[-1] in src:\n",
    "                # copy the file\n",
    "                # print(f\"cp review_papers/{file_name.split('/')[-1]} {file_name}\")\n",
    "                os.system(f\"copy review_papers/{file_name.split('/')[-1]} {file_name}\")\n",
    "            else:\n",
    "                text = extract_text_from_pdf(f\"{dir_}/{file}\")\n",
    "                with open(file_name, \"w\") as f:\n",
    "                    f.write(str(text))\n",
    "    except Exception as e:\n",
    "        print(e)\n",
    "\n",
    "for file in tqdm(os.listdir(dir_)):\n",
    "    p = threading.Thread(target=process_id, args=(file,))\n",
    "    p.start()\n",
    "    p.join(timeout=5)\n",
    "    if p.is_alive():\n",
    "        continue"
   ]
  },
  {
   "cell_type": "code",
   "execution_count": 6,
   "metadata": {},
   "outputs": [
    {
     "data": {
      "text/plain": [
       "1324"
      ]
     },
     "execution_count": 6,
     "metadata": {},
     "output_type": "execute_result"
    }
   ],
   "source": [
    "len(os.listdir(out_dir))"
   ]
  },
  {
   "cell_type": "code",
   "execution_count": 22,
   "metadata": {},
   "outputs": [
    {
     "data": {
      "text/plain": [
       "657"
      ]
     },
     "execution_count": 22,
     "metadata": {},
     "output_type": "execute_result"
    }
   ],
   "source": [
    "dir = \"kdd_ocr\"\n",
    "\n",
    "# find no of files ending with .txt in the directory\n",
    "len([name for name in os.listdir(dir) if name.endswith(\".txt\")])"
   ]
  },
  {
   "cell_type": "code",
   "execution_count": null,
   "metadata": {},
   "outputs": [],
   "source": []
  }
 ],
 "metadata": {
  "kernelspec": {
   "display_name": "NLP",
   "language": "python",
   "name": "python3"
  },
  "language_info": {
   "codemirror_mode": {
    "name": "ipython",
    "version": 3
   },
   "file_extension": ".py",
   "mimetype": "text/x-python",
   "name": "python",
   "nbconvert_exporter": "python",
   "pygments_lexer": "ipython3",
   "version": "3.8.18"
  }
 },
 "nbformat": 4,
 "nbformat_minor": 2
}
