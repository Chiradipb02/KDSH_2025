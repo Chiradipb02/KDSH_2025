{
 "cells": [
  {
   "cell_type": "code",
   "execution_count": 33,
   "metadata": {},
   "outputs": [],
   "source": [
    "# parse https://openaccess.thecvf.com/CVPR2024?day=all\n",
    "import requests\n",
    "from bs4 import BeautifulSoup"
   ]
  },
  {
   "cell_type": "code",
   "execution_count": 34,
   "metadata": {},
   "outputs": [],
   "source": [
    "with open(\"./kdd_2024_papers.txt\", \"r\") as f:\n",
    "    lines = f.readlines()"
   ]
  },
  {
   "cell_type": "code",
   "execution_count": 38,
   "metadata": {},
   "outputs": [
    {
     "name": "stderr",
     "output_type": "stream",
     "text": [
      "100%|██████████| 642/642 [23:15<00:00,  2.17s/it]  \n"
     ]
    }
   ],
   "source": [
    "from selenium import webdriver\n",
    "from selenium.webdriver.chrome.service import Service\n",
    "from selenium.webdriver.chrome.options import Options\n",
    "from selenium.webdriver.common.by import By\n",
    "from selenium.webdriver.support.ui import WebDriverWait\n",
    "from selenium.webdriver.support import expected_conditions as EC\n",
    "from tqdm import tqdm\n",
    "import time\n",
    "import random\n",
    "import os\n",
    "\n",
    "# ✅ Step 1: Set Chrome options to download PDFs directly to a folder\n",
    "download_folder = \"./kdd_2024_papers\"\n",
    "os.makedirs(download_folder, exist_ok=True)\n",
    "\n",
    "chrome_options = Options()\n",
    "chrome_options.add_argument(\"--headless\")  # Run in the background\n",
    "chrome_options.add_argument(\"--disable-gpu\")\n",
    "chrome_options.add_argument(\"--no-sandbox\")\n",
    "chrome_options.add_argument(\"--disable-dev-shm-usage\")\n",
    "\n",
    "# ✅ Set download preferences\n",
    "prefs = {\n",
    "    \"download.default_directory\": os.path.abspath(download_folder),\n",
    "    \"plugins.always_open_pdf_externally\": True,  # Download PDFs directly without preview\n",
    "    \"download.prompt_for_download\": False,       # Disable download prompt\n",
    "}\n",
    "chrome_options.add_experimental_option(\"prefs\", prefs)\n",
    "\n",
    "# ✅ Step 2: Start the WebDriver\n",
    "service = Service('C:\\\\Users\\\\HP\\\\Downloads\\\\chromedriver-win64\\\\chromedriver.exe')\n",
    "driver = webdriver.Chrome(service=service, options=chrome_options)\n",
    "\n",
    "# ✅ Step 3: Define the base URL\n",
    "base_url = \"https://dl.acm.org/doi/pdf/\"\n",
    "\n",
    "present = os.listdir(download_folder)\n",
    "\n",
    "# ✅ Step 4: Download PDFs using Selenium\n",
    "for line in tqdm(lines):\n",
    "    url = line.split(\"org/\")[-1].strip()\n",
    "    pdf_url = base_url + url\n",
    "    if f\"{url.replace('/', '_')}.pdf\" in present or f\"{url.split('/')[-1]}.pdf\" in present:\n",
    "        continue\n",
    "\n",
    "    # Open the PDF URL\n",
    "    driver.get(pdf_url)\n",
    "\n",
    "    # Wait for download to complete (if necessary)\n",
    "    time.sleep(random.randint(1, 5))\n",
    "\n",
    "# ✅ Step 5: Close the browser\n",
    "driver.quit()"
   ]
  },
  {
   "cell_type": "code",
   "execution_count": 5,
   "metadata": {},
   "outputs": [
    {
     "data": {
      "text/plain": [
       "645"
      ]
     },
     "execution_count": 5,
     "metadata": {},
     "output_type": "execute_result"
    }
   ],
   "source": [
    "import os\n",
    "conf = \"emnlp\"\n",
    "pdfs = os.listdir(f\"./{conf}_2024_papers/\")\n",
    "len(pdfs)"
   ]
  },
  {
   "cell_type": "code",
   "execution_count": 4,
   "metadata": {},
   "outputs": [
    {
     "name": "stderr",
     "output_type": "stream",
     "text": [
      "  8%|▊         | 56/661 [00:00<00:04, 129.97it/s]"
     ]
    },
    {
     "name": "stdout",
     "output_type": "stream",
     "text": [
      "removing 2311.08662.pdf\n"
     ]
    },
    {
     "name": "stderr",
     "output_type": "stream",
     "text": [
      " 13%|█▎        | 86/661 [00:02<00:24, 23.52it/s] "
     ]
    },
    {
     "name": "stdout",
     "output_type": "stream",
     "text": [
      "removing 2402.08702.pdf\n"
     ]
    },
    {
     "name": "stderr",
     "output_type": "stream",
     "text": [
      " 17%|█▋        | 114/661 [00:03<00:17, 30.75it/s]"
     ]
    },
    {
     "name": "stdout",
     "output_type": "stream",
     "text": [
      "removing 2402.13593.pdf\n",
      "removing 2402.15729.pdf\n"
     ]
    },
    {
     "name": "stderr",
     "output_type": "stream",
     "text": [
      " 31%|███       | 202/661 [00:03<00:05, 91.36it/s]"
     ]
    },
    {
     "name": "stdout",
     "output_type": "stream",
     "text": [
      "removing 2404.02575.pdf\n",
      "removing 2404.11216.pdf\n"
     ]
    },
    {
     "name": "stderr",
     "output_type": "stream",
     "text": [
      " 52%|█████▏    | 344/661 [00:05<00:03, 82.56it/s] "
     ]
    },
    {
     "name": "stdout",
     "output_type": "stream",
     "text": [
      "removing 2406.17328.pdf\n",
      "removing 2406.19131.pdf\n",
      "removing 2407.00087.pdf\n"
     ]
    },
    {
     "name": "stderr",
     "output_type": "stream",
     "text": [
      " 61%|██████▏   | 405/661 [00:08<00:07, 32.26it/s]"
     ]
    },
    {
     "name": "stdout",
     "output_type": "stream",
     "text": [
      "removing 2407.00377.pdf\n"
     ]
    },
    {
     "name": "stderr",
     "output_type": "stream",
     "text": [
      " 65%|██████▍   | 428/661 [00:09<00:06, 36.51it/s]"
     ]
    },
    {
     "name": "stdout",
     "output_type": "stream",
     "text": [
      "removing 2407.16970.pdf\n",
      "removing 2407.21417.pdf\n"
     ]
    },
    {
     "name": "stderr",
     "output_type": "stream",
     "text": [
      " 76%|███████▌  | 500/661 [00:09<00:02, 69.81it/s]"
     ]
    },
    {
     "name": "stdout",
     "output_type": "stream",
     "text": [
      "removing 2408.12163.pdf\n"
     ]
    },
    {
     "name": "stderr",
     "output_type": "stream",
     "text": [
      " 91%|█████████ | 601/661 [00:13<00:01, 37.77it/s]"
     ]
    },
    {
     "name": "stdout",
     "output_type": "stream",
     "text": [
      "removing 2410.04439.pdf\n",
      "removing 2410.11462.pdf\n"
     ]
    },
    {
     "name": "stderr",
     "output_type": "stream",
     "text": [
      "100%|██████████| 661/661 [00:14<00:00, 45.15it/s]"
     ]
    },
    {
     "name": "stdout",
     "output_type": "stream",
     "text": [
      "removing 2410.20008.pdf\n"
     ]
    },
    {
     "name": "stderr",
     "output_type": "stream",
     "text": [
      "\n"
     ]
    }
   ],
   "source": [
    "import os\n",
    "from PyPDF2 import PdfReader\n",
    "from tqdm import tqdm\n",
    "\n",
    "for pdf in tqdm(os.listdir(f\"./{conf}_2024_papers\")):\n",
    "    # if the file is not a pdf, remove it\n",
    "    # the extension may be .pdf but the file may not be a pdf\n",
    "    try:\n",
    "        with open(f\"./{conf}_2024_papers/{pdf}\", 'rb') as f:\n",
    "            PdfReader(f)\n",
    "    except:\n",
    "        print(f\"removing {pdf}\")\n",
    "        os.remove(f\"./{conf}_2024_papers/{pdf}\")"
   ]
  },
  {
   "cell_type": "code",
   "execution_count": null,
   "metadata": {},
   "outputs": [],
   "source": []
  }
 ],
 "metadata": {
  "kernelspec": {
   "display_name": "NLP",
   "language": "python",
   "name": "python3"
  },
  "language_info": {
   "codemirror_mode": {
    "name": "ipython",
    "version": 3
   },
   "file_extension": ".py",
   "mimetype": "text/x-python",
   "name": "python",
   "nbconvert_exporter": "python",
   "pygments_lexer": "ipython3",
   "version": "3.8.18"
  }
 },
 "nbformat": 4,
 "nbformat_minor": 2
}
