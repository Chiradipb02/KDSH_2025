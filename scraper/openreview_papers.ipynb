{
 "cells": [
  {
   "cell_type": "code",
   "execution_count": 8,
   "metadata": {},
   "outputs": [],
   "source": [
    "import openreview\n",
    "import os\n",
    "\n",
    "# load OPENREVIEW_PASSWORD from environment variable\n",
    "openreview_password = os.environ.get('OPENREVIEW_PASSWORD')\n",
    "# load OFFICIAL_EMAIL from environment variable\n",
    "official_email = os.environ.get('OFFICIAL_EMAIL')"
   ]
  },
  {
   "cell_type": "code",
   "execution_count": 9,
   "metadata": {},
   "outputs": [
    {
     "name": "stdout",
     "output_type": "stream",
     "text": [
      "Retrying request: POST /login, response: no response, error: <urllib3.connection.HTTPSConnection object at 0x000001CD553DA370>: Failed to establish a new connection: [WinError 10060] A connection attempt failed because the connected party did not properly respond after a period of time, or established connection failed because connected host has failed to respond\n"
     ]
    }
   ],
   "source": [
    "# Replace with your actual email and password\n",
    "client = openreview.api.OpenReviewClient(\n",
    "    baseurl='https://api2.openreview.net',\n",
    "    username=official_email,\n",
    "    password=openreview_password\n",
    ")"
   ]
  },
  {
   "cell_type": "code",
   "execution_count": 10,
   "metadata": {},
   "outputs": [],
   "source": [
    "venue_id = 'TMLR'\n",
    "venue_group = client.get_group(venue_id)"
   ]
  },
  {
   "cell_type": "code",
   "execution_count": 11,
   "metadata": {},
   "outputs": [
    {
     "name": "stdout",
     "output_type": "stream",
     "text": [
      "submission_id {'value': 'TMLR/-/Submission'}\n",
      "title {'value': 'Transactions on Machine Learning Research'}\n",
      "under_review_venue_id {'value': 'TMLR/Under_Review'}\n",
      "decision_pending_venue_id {'value': 'TMLR/Decision_Pending'}\n",
      "certifications {'value': ['Featured Certification', 'Reproducibility Certification', 'Survey Certification']}\n",
      "eic_certifications {'value': ['Outstanding Certification']}\n",
      "expert_reviewer_certification {'value': 'Expert Certification'}\n",
      "event_certifications {'value': ['logconference.org/LoG/2024/Journal_Track', 'rl-conference.cc/RLC/2024/Journal_Track', 'reproml.org/MLRC/2023/Journal_Track', 'automl.cc/AutoML/2024/Journal_Track', 'lifelong-ml.cc/CoLLAs/2024/Journal_Track', 'iclr.cc/ICLR/2024/Journal_Track', 'lifelong-ml.cc/CoLLAs/2023/Journal_Track', 'automl.cc/AutoML/2023/Journal_Track']}\n",
      "videos_url {'value': 'https://tmlr.infinite-conf.org'}\n",
      "subtitle {'value': 'TMLR'}\n",
      "website {'value': 'jmlr.org/tmlr'}\n",
      "contact {'value': 'tmlr@jmlr.org'}\n",
      "message_sender {'value': {'fromName': 'TMLR', 'fromEmail': 'tmlr-notifications@openreview.net'}}\n",
      "preferred_emails_invitation_id {'value': 'TMLR/-/Preferred_Emails'}\n"
     ]
    }
   ],
   "source": [
    "for i in venue_group.content:\n",
    "    print(i, venue_group.content[i])"
   ]
  },
  {
   "cell_type": "code",
   "execution_count": 12,
   "metadata": {},
   "outputs": [
    {
     "name": "stderr",
     "output_type": "stream",
     "text": [
      "Getting V2 Notes: 100%|█████████▉| 3286/3290 [00:28<00:00, 114.33it/s]\n"
     ]
    }
   ],
   "source": [
    "submissions = client.get_all_notes(invitation=f'{venue_id}/-/Submission')"
   ]
  },
  {
   "cell_type": "code",
   "execution_count": 15,
   "metadata": {},
   "outputs": [
    {
     "name": "stderr",
     "output_type": "stream",
     "text": [
      "  0%|          | 13/3290 [00:58<4:31:04,  4.96s/it]"
     ]
    },
    {
     "name": "stdout",
     "output_type": "stream",
     "text": [
      "Retrying request: GET /attachment?id=zmBFzuT2DN&name=pdf, response: no response, error: <urllib3.connection.HTTPSConnection object at 0x000001CD5E8C0AC0>: Failed to establish a new connection: [WinError 10060] A connection attempt failed because the connected party did not properly respond after a period of time, or established connection failed because connected host has failed to respond\n"
     ]
    },
    {
     "name": "stderr",
     "output_type": "stream",
     "text": [
      "  1%|          | 30/3290 [02:23<4:32:31,  5.02s/it]"
     ]
    },
    {
     "name": "stdout",
     "output_type": "stream",
     "text": [
      "Retrying request: GET /attachment?id=zSK81A2hxQ&name=pdf, response: no response, error: ('Connection aborted.', RemoteDisconnected('Remote end closed connection without response'))\n"
     ]
    },
    {
     "name": "stderr",
     "output_type": "stream",
     "text": [
      "  3%|▎         | 96/3290 [07:30<4:26:51,  5.01s/it]"
     ]
    },
    {
     "name": "stdout",
     "output_type": "stream",
     "text": [
      "Retrying request: GET /attachment?id=yEqzW4NdYh&name=pdf, response: no response, error: <urllib3.connection.HTTPSConnection object at 0x000001CD56D79CA0>: Failed to establish a new connection: [WinError 10060] A connection attempt failed because the connected party did not properly respond after a period of time, or established connection failed because connected host has failed to respond\n"
     ]
    },
    {
     "name": "stderr",
     "output_type": "stream",
     "text": [
      "  3%|▎         | 97/3290 [07:35<4:26:42,  5.01s/it]"
     ]
    },
    {
     "name": "stdout",
     "output_type": "stream",
     "text": [
      "Retrying request: GET /attachment?id=yBgTVWccIx&name=pdf, response: no response, error: <urllib3.connection.HTTPSConnection object at 0x000001CD5E6BDBE0>: Failed to establish a new connection: [WinError 10060] A connection attempt failed because the connected party did not properly respond after a period of time, or established connection failed because connected host has failed to respond\n"
     ]
    },
    {
     "name": "stderr",
     "output_type": "stream",
     "text": [
      "  3%|▎         | 98/3290 [07:40<4:26:39,  5.01s/it]"
     ]
    },
    {
     "name": "stdout",
     "output_type": "stream",
     "text": [
      "Retrying request: GET /attachment?id=yAoavrPtBq&name=pdf, response: no response, error: <urllib3.connection.HTTPSConnection object at 0x000001CD553D4D60>: Failed to establish a new connection: [WinError 10060] A connection attempt failed because the connected party did not properly respond after a period of time, or established connection failed because connected host has failed to respond\n"
     ]
    },
    {
     "name": "stderr",
     "output_type": "stream",
     "text": [
      "  3%|▎         | 102/3290 [07:58<4:12:46,  4.76s/it]"
     ]
    },
    {
     "name": "stdout",
     "output_type": "stream",
     "text": [
      "Retrying request: GET /attachment?id=yAoavrPtBq&name=pdf, response: no response, error: <urllib3.connection.HTTPSConnection object at 0x000001CD553D42E0>: Failed to establish a new connection: [WinError 10060] A connection attempt failed because the connected party did not properly respond after a period of time, or established connection failed because connected host has failed to respond\n"
     ]
    },
    {
     "name": "stderr",
     "output_type": "stream",
     "text": [
      "  5%|▌         | 168/3290 [13:21<4:20:46,  5.01s/it]"
     ]
    },
    {
     "name": "stdout",
     "output_type": "stream",
     "text": [
      "Retrying request: GET /attachment?id=xYkdmEGhIM&name=pdf, response: no response, error: ('Connection aborted.', TimeoutError(10060, 'A connection attempt failed because the connected party did not properly respond after a period of time, or established connection failed because connected host has failed to respond', None, 10060, None))\n"
     ]
    },
    {
     "name": "stderr",
     "output_type": "stream",
     "text": [
      "  6%|▌         | 204/3290 [16:13<4:14:38,  4.95s/it]"
     ]
    },
    {
     "name": "stdout",
     "output_type": "stream",
     "text": [
      "Retrying request: GET /attachment?id=wB12L5h4Og&name=pdf, response: no response, error: ('Connection aborted.', RemoteDisconnected('Remote end closed connection without response'))\n"
     ]
    },
    {
     "name": "stderr",
     "output_type": "stream",
     "text": [
      "  6%|▋         | 211/3290 [16:48<4:17:00,  5.01s/it]"
     ]
    },
    {
     "name": "stdout",
     "output_type": "stream",
     "text": [
      "Retrying request: GET /attachment?id=w4nd5695sq&name=pdf, response: no response, error: <urllib3.connection.HTTPSConnection object at 0x000001CD56A220D0>: Failed to establish a new connection: [WinError 10060] A connection attempt failed because the connected party did not properly respond after a period of time, or established connection failed because connected host has failed to respond\n"
     ]
    },
    {
     "name": "stderr",
     "output_type": "stream",
     "text": [
      " 10%|█         | 336/3290 [25:46<4:00:41,  4.89s/it]"
     ]
    },
    {
     "name": "stdout",
     "output_type": "stream",
     "text": [
      "Retrying request: GET /attachment?id=tqDhrbKJLS&name=pdf, response: no response, error: <urllib3.connection.HTTPSConnection object at 0x000001CD6FAFA130>: Failed to establish a new connection: [WinError 10060] A connection attempt failed because the connected party did not properly respond after a period of time, or established connection failed because connected host has failed to respond\n"
     ]
    },
    {
     "name": "stderr",
     "output_type": "stream",
     "text": [
      " 10%|█         | 338/3290 [25:56<4:03:33,  4.95s/it]"
     ]
    },
    {
     "name": "stdout",
     "output_type": "stream",
     "text": [
      "Retrying request: GET /attachment?id=to1OL4qBku&name=pdf, response: no response, error: <urllib3.connection.HTTPSConnection object at 0x000001CD5E691F10>: Failed to establish a new connection: [WinError 10060] A connection attempt failed because the connected party did not properly respond after a period of time, or established connection failed because connected host has failed to respond\n"
     ]
    },
    {
     "name": "stderr",
     "output_type": "stream",
     "text": [
      " 13%|█▎        | 425/3290 [31:30<3:49:05,  4.80s/it]"
     ]
    },
    {
     "name": "stdout",
     "output_type": "stream",
     "text": [
      "Retrying request: GET /attachment?id=sLlufxgpmO&name=pdf, response: no response, error: <urllib3.connection.HTTPSConnection object at 0x000001CD568D7190>: Failed to establish a new connection: [WinError 10060] A connection attempt failed because the connected party did not properly respond after a period of time, or established connection failed because connected host has failed to respond\n"
     ]
    },
    {
     "name": "stderr",
     "output_type": "stream",
     "text": [
      " 13%|█▎        | 428/3290 [31:45<3:55:37,  4.94s/it]"
     ]
    },
    {
     "name": "stdout",
     "output_type": "stream",
     "text": [
      "Retrying request: GET /attachment?id=sHSkJqyQgW&name=pdf, response: no response, error: <urllib3.connection.HTTPSConnection object at 0x000001CD56D79BE0>: Failed to establish a new connection: [WinError 10060] A connection attempt failed because the connected party did not properly respond after a period of time, or established connection failed because connected host has failed to respond\n"
     ]
    },
    {
     "name": "stderr",
     "output_type": "stream",
     "text": [
      " 13%|█▎        | 432/3290 [32:05<3:58:00,  5.00s/it]"
     ]
    },
    {
     "name": "stdout",
     "output_type": "stream",
     "text": [
      "Retrying request: GET /attachment?id=s8TsIPTgVG&name=pdf, response: no response, error: ('Connection aborted.', RemoteDisconnected('Remote end closed connection without response'))\n"
     ]
    },
    {
     "name": "stderr",
     "output_type": "stream",
     "text": [
      " 16%|█▌        | 528/3290 [38:35<3:45:25,  4.90s/it]"
     ]
    },
    {
     "name": "stdout",
     "output_type": "stream",
     "text": [
      "Retrying request: GET /attachment?id=qBTgnk2HAf&name=pdf, response: no response, error: <urllib3.connection.HTTPSConnection object at 0x000001CD55DC2F10>: Failed to establish a new connection: [WinError 10060] A connection attempt failed because the connected party did not properly respond after a period of time, or established connection failed because connected host has failed to respond\n"
     ]
    },
    {
     "name": "stderr",
     "output_type": "stream",
     "text": [
      " 16%|█▌        | 533/3290 [38:56<3:36:12,  4.71s/it]"
     ]
    },
    {
     "name": "stdout",
     "output_type": "stream",
     "text": [
      "Retrying request: GET /attachment?id=qBTgnk2HAf&name=pdf, response: no response, error: <urllib3.connection.HTTPSConnection object at 0x000001CD6FAF9F40>: Failed to establish a new connection: [WinError 10060] A connection attempt failed because the connected party did not properly respond after a period of time, or established connection failed because connected host has failed to respond\n"
     ]
    },
    {
     "name": "stderr",
     "output_type": "stream",
     "text": [
      " 16%|█▋        | 537/3290 [39:17<3:46:38,  4.94s/it]"
     ]
    },
    {
     "name": "stdout",
     "output_type": "stream",
     "text": [
      "Retrying request: GET /attachment?id=qBTgnk2HAf&name=pdf, response: no response, error: <urllib3.connection.HTTPSConnection object at 0x000001CD5E6CF9D0>: Failed to establish a new connection: [WinError 10060] A connection attempt failed because the connected party did not properly respond after a period of time, or established connection failed because connected host has failed to respond\n"
     ]
    },
    {
     "name": "stderr",
     "output_type": "stream",
     "text": [
      " 19%|█▉        | 625/3290 [44:56<3:41:25,  4.99s/it]"
     ]
    },
    {
     "name": "stdout",
     "output_type": "stream",
     "text": [
      "Retrying request: GET /attachment?id=oKlEOT83gI&name=pdf, response: no response, error: <urllib3.connection.HTTPSConnection object at 0x000001CD5E928AC0>: Failed to establish a new connection: [WinError 10060] A connection attempt failed because the connected party did not properly respond after a period of time, or established connection failed because connected host has failed to respond\n"
     ]
    },
    {
     "name": "stderr",
     "output_type": "stream",
     "text": [
      " 22%|██▏       | 708/3290 [49:49<3:11:54,  4.46s/it]"
     ]
    },
    {
     "name": "stdout",
     "output_type": "stream",
     "text": [
      "Retrying request: GET /attachment?id=msI02LXVJX&name=pdf, response: no response, error: <urllib3.connection.HTTPSConnection object at 0x000001CD55DC57C0>: Failed to establish a new connection: [WinError 10060] A connection attempt failed because the connected party did not properly respond after a period of time, or established connection failed because connected host has failed to respond\n"
     ]
    },
    {
     "name": "stderr",
     "output_type": "stream",
     "text": [
      " 25%|██▍       | 808/3290 [56:39<3:06:52,  4.52s/it]"
     ]
    },
    {
     "name": "stdout",
     "output_type": "stream",
     "text": [
      "Retrying request: GET /attachment?id=kxHIK4x8qc&name=pdf, response: no response, error: <urllib3.connection.HTTPSConnection object at 0x000001CD56D79730>: Failed to establish a new connection: [WinError 10060] A connection attempt failed because the connected party did not properly respond after a period of time, or established connection failed because connected host has failed to respond\n"
     ]
    },
    {
     "name": "stderr",
     "output_type": "stream",
     "text": [
      " 28%|██▊       | 933/3290 [1:05:37<1:50:53,  2.82s/it]"
     ]
    },
    {
     "name": "stdout",
     "output_type": "stream",
     "text": [
      "Retrying request: GET /attachment?id=igdWKxK5RZ&name=pdf, response: no response, error: <urllib3.connection.HTTPSConnection object at 0x000001CD55DC2070>: Failed to establish a new connection: [WinError 10060] A connection attempt failed because the connected party did not properly respond after a period of time, or established connection failed because connected host has failed to respond\n"
     ]
    },
    {
     "name": "stderr",
     "output_type": "stream",
     "text": [
      " 33%|███▎      | 1093/3290 [1:18:06<2:45:57,  4.53s/it]"
     ]
    },
    {
     "name": "stdout",
     "output_type": "stream",
     "text": [
      "Retrying request: GET /attachment?id=fa1ne8xDGn&name=pdf, response: no response, error: <urllib3.connection.HTTPSConnection object at 0x000001CD553B9D90>: Failed to establish a new connection: [WinError 10060] A connection attempt failed because the connected party did not properly respond after a period of time, or established connection failed because connected host has failed to respond\n"
     ]
    },
    {
     "name": "stderr",
     "output_type": "stream",
     "text": [
      " 39%|███▉      | 1275/3290 [1:31:48<2:40:34,  4.78s/it]"
     ]
    },
    {
     "name": "stdout",
     "output_type": "stream",
     "text": [
      "Retrying request: GET /attachment?id=bowQ2rPTYW&name=pdf, response: no response, error: ('Connection aborted.', RemoteDisconnected('Remote end closed connection without response'))\n"
     ]
    },
    {
     "name": "stderr",
     "output_type": "stream",
     "text": [
      " 39%|███▉      | 1290/3290 [1:32:40<1:21:50,  2.46s/it]"
     ]
    },
    {
     "name": "stdout",
     "output_type": "stream",
     "text": [
      "Retrying request: GET /attachment?id=bqMJToTkvT&name=pdf, response: no response, error: ('Connection aborted.', TimeoutError(10060, 'A connection attempt failed because the connected party did not properly respond after a period of time, or established connection failed because connected host has failed to respond', None, 10060, None))\n"
     ]
    },
    {
     "name": "stderr",
     "output_type": "stream",
     "text": [
      " 40%|███▉      | 1302/3290 [1:33:41<2:23:03,  4.32s/it]\n"
     ]
    },
    {
     "ename": "KeyboardInterrupt",
     "evalue": "",
     "output_type": "error",
     "traceback": [
      "\u001b[1;31m---------------------------------------------------------------------------\u001b[0m",
      "\u001b[1;31mKeyboardInterrupt\u001b[0m                         Traceback (most recent call last)",
      "Cell \u001b[1;32mIn[15], line 15\u001b[0m\n\u001b[0;32m     13\u001b[0m thread \u001b[38;5;241m=\u001b[39m threading\u001b[38;5;241m.\u001b[39mThread(target\u001b[38;5;241m=\u001b[39mprocess_note, args\u001b[38;5;241m=\u001b[39m(note, filepath))\n\u001b[0;32m     14\u001b[0m thread\u001b[38;5;241m.\u001b[39mstart()\n\u001b[1;32m---> 15\u001b[0m \u001b[43mthread\u001b[49m\u001b[38;5;241;43m.\u001b[39;49m\u001b[43mjoin\u001b[49m\u001b[43m(\u001b[49m\u001b[43mtimeout\u001b[49m\u001b[38;5;241;43m=\u001b[39;49m\u001b[38;5;241;43m5\u001b[39;49m\u001b[43m)\u001b[49m\n\u001b[0;32m     16\u001b[0m \u001b[38;5;28;01mif\u001b[39;00m thread\u001b[38;5;241m.\u001b[39mis_alive():\n\u001b[0;32m     17\u001b[0m     \u001b[38;5;66;03m# Skipping this iteration\u001b[39;00m\n\u001b[0;32m     18\u001b[0m     \u001b[38;5;28;01mcontinue\u001b[39;00m\n",
      "File \u001b[1;32md:\\Anaconda\\envs\\NLP\\lib\\threading.py:1015\u001b[0m, in \u001b[0;36mThread.join\u001b[1;34m(self, timeout)\u001b[0m\n\u001b[0;32m   1011\u001b[0m     \u001b[38;5;28mself\u001b[39m\u001b[38;5;241m.\u001b[39m_wait_for_tstate_lock()\n\u001b[0;32m   1012\u001b[0m \u001b[38;5;28;01melse\u001b[39;00m:\n\u001b[0;32m   1013\u001b[0m     \u001b[38;5;66;03m# the behavior of a negative timeout isn't documented, but\u001b[39;00m\n\u001b[0;32m   1014\u001b[0m     \u001b[38;5;66;03m# historically .join(timeout=x) for x<0 has acted as if timeout=0\u001b[39;00m\n\u001b[1;32m-> 1015\u001b[0m     \u001b[38;5;28;43mself\u001b[39;49m\u001b[38;5;241;43m.\u001b[39;49m\u001b[43m_wait_for_tstate_lock\u001b[49m\u001b[43m(\u001b[49m\u001b[43mtimeout\u001b[49m\u001b[38;5;241;43m=\u001b[39;49m\u001b[38;5;28;43mmax\u001b[39;49m\u001b[43m(\u001b[49m\u001b[43mtimeout\u001b[49m\u001b[43m,\u001b[49m\u001b[43m \u001b[49m\u001b[38;5;241;43m0\u001b[39;49m\u001b[43m)\u001b[49m\u001b[43m)\u001b[49m\n",
      "File \u001b[1;32md:\\Anaconda\\envs\\NLP\\lib\\threading.py:1027\u001b[0m, in \u001b[0;36mThread._wait_for_tstate_lock\u001b[1;34m(self, block, timeout)\u001b[0m\n\u001b[0;32m   1025\u001b[0m \u001b[38;5;28;01mif\u001b[39;00m lock \u001b[38;5;129;01mis\u001b[39;00m \u001b[38;5;28;01mNone\u001b[39;00m:  \u001b[38;5;66;03m# already determined that the C code is done\u001b[39;00m\n\u001b[0;32m   1026\u001b[0m     \u001b[38;5;28;01massert\u001b[39;00m \u001b[38;5;28mself\u001b[39m\u001b[38;5;241m.\u001b[39m_is_stopped\n\u001b[1;32m-> 1027\u001b[0m \u001b[38;5;28;01melif\u001b[39;00m \u001b[43mlock\u001b[49m\u001b[38;5;241;43m.\u001b[39;49m\u001b[43macquire\u001b[49m\u001b[43m(\u001b[49m\u001b[43mblock\u001b[49m\u001b[43m,\u001b[49m\u001b[43m \u001b[49m\u001b[43mtimeout\u001b[49m\u001b[43m)\u001b[49m:\n\u001b[0;32m   1028\u001b[0m     lock\u001b[38;5;241m.\u001b[39mrelease()\n\u001b[0;32m   1029\u001b[0m     \u001b[38;5;28mself\u001b[39m\u001b[38;5;241m.\u001b[39m_stop()\n",
      "\u001b[1;31mKeyboardInterrupt\u001b[0m: "
     ]
    }
   ],
   "source": [
    "from tqdm import tqdm\n",
    "import os\n",
    "import threading\n",
    "\n",
    "def process_note(note, filepath):\n",
    "    if note.content.get(\"pdf\", {}).get('value'):\n",
    "        f = client.get_attachment(note.id, 'pdf')\n",
    "        with open(filepath, 'wb') as file:\n",
    "            file.write(f)\n",
    "\n",
    "for note in tqdm(submissions):\n",
    "    filepath = f'./tmlr_2024_papers/{note.id}.pdf'\n",
    "    thread = threading.Thread(target=process_note, args=(note, filepath))\n",
    "    thread.start()\n",
    "    thread.join(timeout=5)\n",
    "    if thread.is_alive():\n",
    "        # Skipping this iteration\n",
    "        continue"
   ]
  },
  {
   "cell_type": "code",
   "execution_count": null,
   "metadata": {},
   "outputs": [],
   "source": []
  }
 ],
 "metadata": {
  "kernelspec": {
   "display_name": "NLP",
   "language": "python",
   "name": "python3"
  },
  "language_info": {
   "codemirror_mode": {
    "name": "ipython",
    "version": 3
   },
   "file_extension": ".py",
   "mimetype": "text/x-python",
   "name": "python",
   "nbconvert_exporter": "python",
   "pygments_lexer": "ipython3",
   "version": "3.8.18"
  }
 },
 "nbformat": 4,
 "nbformat_minor": 2
}
