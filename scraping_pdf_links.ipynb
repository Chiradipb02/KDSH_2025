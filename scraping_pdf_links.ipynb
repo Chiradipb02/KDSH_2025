{
 "cells": [
  {
   "cell_type": "code",
   "execution_count": 26,
   "metadata": {},
   "outputs": [],
   "source": [
    "# parse https://openaccess.thecvf.com/CVPR2024?day=all\n",
    "import requests\n",
    "from bs4 import BeautifulSoup"
   ]
  },
  {
   "cell_type": "code",
   "execution_count": 27,
   "metadata": {},
   "outputs": [],
   "source": [
    "with open(\"./kdd_2024_papers.txt\", \"r\") as f:\n",
    "    lines = f.readlines()"
   ]
  },
  {
   "cell_type": "code",
   "execution_count": 28,
   "metadata": {},
   "outputs": [
    {
     "name": "stderr",
     "output_type": "stream",
     "text": [
      "  5%|▌         | 35/642 [01:57<33:55,  3.35s/it]\n"
     ]
    },
    {
     "ename": "IndexError",
     "evalue": "list index out of range",
     "output_type": "error",
     "traceback": [
      "\u001b[1;31m---------------------------------------------------------------------------\u001b[0m",
      "\u001b[1;31mIndexError\u001b[0m                                Traceback (most recent call last)",
      "Cell \u001b[1;32mIn[28], line 10\u001b[0m\n\u001b[0;32m      8\u001b[0m div \u001b[38;5;241m=\u001b[39m soup\u001b[38;5;241m.\u001b[39mfind_all(\u001b[38;5;124m\"\u001b[39m\u001b[38;5;124mdiv\u001b[39m\u001b[38;5;124m\"\u001b[39m, class_\u001b[38;5;241m=\u001b[39m\u001b[38;5;124m\"\u001b[39m\u001b[38;5;124minfo-panel__formats info-panel__item\u001b[39m\u001b[38;5;124m\"\u001b[39m)\n\u001b[0;32m      9\u001b[0m \u001b[38;5;66;03m# find a href\u001b[39;00m\n\u001b[1;32m---> 10\u001b[0m a \u001b[38;5;241m=\u001b[39m \u001b[43mdiv\u001b[49m\u001b[43m[\u001b[49m\u001b[38;5;241;43m0\u001b[39;49m\u001b[43m]\u001b[49m\u001b[38;5;241m.\u001b[39mfind_all(\u001b[38;5;124m\"\u001b[39m\u001b[38;5;124ma\u001b[39m\u001b[38;5;124m\"\u001b[39m)\n\u001b[0;32m     11\u001b[0m pdf_link \u001b[38;5;241m=\u001b[39m a[\u001b[38;5;241m0\u001b[39m][\u001b[38;5;124m\"\u001b[39m\u001b[38;5;124mhref\u001b[39m\u001b[38;5;124m\"\u001b[39m]\n\u001b[0;32m     12\u001b[0m \u001b[38;5;28;01mif\u001b[39;00m \u001b[38;5;129;01mnot\u001b[39;00m pdf_link\u001b[38;5;241m.\u001b[39mstrip(): \u001b[38;5;28;01mcontinue\u001b[39;00m\n",
      "\u001b[1;31mIndexError\u001b[0m: list index out of range"
     ]
    }
   ],
   "source": [
    "from tqdm import tqdm\n",
    "\n",
    "pdf_links = []\n",
    "for line in tqdm(lines):\n",
    "    response = requests.get(line.strip())\n",
    "    soup = BeautifulSoup(response.text, 'html.parser')\n",
    "    # find div class=\"info-panel__formats info-panel__item\"\n",
    "    div = soup.find_all(\"div\", class_=\"info-panel__formats info-panel__item\")\n",
    "    # find a href\n",
    "    a = div[0].find_all(\"a\")\n",
    "    pdf_link = a[0][\"href\"]\n",
    "    if not pdf_link.strip(): continue\n",
    "    pdf_links.append(pdf_link)"
   ]
  },
  {
   "cell_type": "code",
   "execution_count": 23,
   "metadata": {},
   "outputs": [
    {
     "data": {
      "text/plain": [
       "['https://dl.acm.org/doi/pdf/10.1145/3637528.3672193',\n",
       " 'https://dl.acm.org/doi/pdf/10.1145/3637528.3672192',\n",
       " 'https://dl.acm.org/doi/pdf/10.1145/3637528.3672194',\n",
       " 'https://dl.acm.org/doi/pdf/10.1145/3637528.3671900',\n",
       " 'https://dl.acm.org/doi/pdf/10.1145/3637528.3671985',\n",
       " 'https://dl.acm.org/doi/pdf/10.1145/3637528.3671888',\n",
       " 'https://dl.acm.org/doi/pdf/10.1145/3637528.3672014',\n",
       " 'https://dl.acm.org/doi/pdf/10.1145/3637528.3671858',\n",
       " 'https://dl.acm.org/doi/pdf/10.1145/3637528.3672033',\n",
       " 'https://dl.acm.org/doi/pdf/10.1145/3637528.3671808']"
      ]
     },
     "execution_count": 23,
     "metadata": {},
     "output_type": "execute_result"
    }
   ],
   "source": [
    "pdf_links[:10]"
   ]
  },
  {
   "cell_type": "code",
   "execution_count": 24,
   "metadata": {},
   "outputs": [
    {
     "data": {
      "text/plain": [
       "31"
      ]
     },
     "execution_count": 24,
     "metadata": {},
     "output_type": "execute_result"
    }
   ],
   "source": [
    "len(pdf_links)"
   ]
  },
  {
   "cell_type": "code",
   "execution_count": null,
   "metadata": {},
   "outputs": [],
   "source": [
    "with open(\"./kdd_2024_pdf_links.txt\", \"w\") as f:\n",
    "    for pdf_link in pdf_links:\n",
    "        f.write(pdf_link + \"\\n\")"
   ]
  }
 ],
 "metadata": {
  "kernelspec": {
   "display_name": "NLP",
   "language": "python",
   "name": "python3"
  },
  "language_info": {
   "codemirror_mode": {
    "name": "ipython",
    "version": 3
   },
   "file_extension": ".py",
   "mimetype": "text/x-python",
   "name": "python",
   "nbconvert_exporter": "python",
   "pygments_lexer": "ipython3",
   "version": "3.8.18"
  }
 },
 "nbformat": 4,
 "nbformat_minor": 2
}
