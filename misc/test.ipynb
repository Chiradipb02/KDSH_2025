{
 "cells": [
  {
   "cell_type": "code",
   "execution_count": 1,
   "metadata": {},
   "outputs": [],
   "source": [
    "import json\n",
    "\n",
    "def load_jsonl(file_path):\n",
    "    \"\"\"\n",
    "    Load a JSON Lines (JSONL) file and return its content as a list of dictionaries.\n",
    "\n",
    "    Args:\n",
    "        file_path (str): Path to the JSONL file.\n",
    "\n",
    "    Returns:\n",
    "        list: A list of parsed JSON objects.\n",
    "    \"\"\"\n",
    "    data = []\n",
    "    with open(file_path, 'r', encoding='utf-8') as file:\n",
    "        for line in file:\n",
    "            if line.strip():  # Skip empty lines\n",
    "                data.append(json.loads(line))\n",
    "    return data"
   ]
  },
  {
   "cell_type": "code",
   "execution_count": 2,
   "metadata": {},
   "outputs": [
    {
     "data": {
      "text/plain": [
       "2"
      ]
     },
     "execution_count": 2,
     "metadata": {},
     "output_type": "execute_result"
    }
   ],
   "source": [
    "# Example usage\n",
    "json_data = load_jsonl(\"test.jsonl\")\n",
    "\n",
    "len(json_data)"
   ]
  },
  {
   "cell_type": "code",
   "execution_count": 3,
   "metadata": {},
   "outputs": [
    {
     "name": "stdout",
     "output_type": "stream",
     "text": [
      "174122\n",
      "174259\n"
     ]
    }
   ],
   "source": [
    "for i in range(len(json_data)):\n",
    "    data = json_data[i][\"data\"]\n",
    "    print(len(data))"
   ]
  },
  {
   "cell_type": "code",
   "execution_count": 4,
   "metadata": {},
   "outputs": [],
   "source": [
    "def reconstruct_pdf(data_list, output_file):\n",
    "    \"\"\"\n",
    "    Convert a list of integers to bytes and write them to a PDF file.\n",
    "\n",
    "    Args:\n",
    "        data_list (list): List of integer byte values.\n",
    "        output_file (str): Path to the output PDF file.\n",
    "    \"\"\"\n",
    "    try:\n",
    "        byte_array = bytes(data_list)\n",
    "        with open(output_file, 'wb') as pdf_file:\n",
    "            pdf_file.write(byte_array)\n",
    "        print(f\"PDF successfully written to {output_file}\")\n",
    "    except Exception as e:\n",
    "        print(f\"Error writing PDF: {e}\")"
   ]
  },
  {
   "cell_type": "code",
   "execution_count": 5,
   "metadata": {},
   "outputs": [
    {
     "name": "stdout",
     "output_type": "stream",
     "text": [
      "PDF successfully written to output_0.pdf\n",
      "PDF successfully written to output_1.pdf\n"
     ]
    }
   ],
   "source": [
    "for i in range(len(json_data)):\n",
    "    data = json_data[i][\"data\"]\n",
    "    reconstruct_pdf(data, f\"output_{i}.pdf\")"
   ]
  },
  {
   "cell_type": "code",
   "execution_count": null,
   "metadata": {},
   "outputs": [],
   "source": []
  }
 ],
 "metadata": {
  "kernelspec": {
   "display_name": ".venv",
   "language": "python",
   "name": "python3"
  },
  "language_info": {
   "codemirror_mode": {
    "name": "ipython",
    "version": 3
   },
   "file_extension": ".py",
   "mimetype": "text/x-python",
   "name": "python",
   "nbconvert_exporter": "python",
   "pygments_lexer": "ipython3",
   "version": "3.12.8"
  }
 },
 "nbformat": 4,
 "nbformat_minor": 2
}
